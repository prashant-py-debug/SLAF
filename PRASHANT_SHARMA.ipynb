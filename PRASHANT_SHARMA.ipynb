{
 "cells": [
  {
   "cell_type": "code",
   "execution_count": 1,
   "id": "9f6ab739",
   "metadata": {},
   "outputs": [],
   "source": [
    "#import relevant libraries..\n",
    "\n",
    "import numpy as np\n",
    "import matplotlib.pyplot as plt\n",
    "import pandas as pd\n",
    "import tensorflow as tf\n",
    "from tensorflow.keras.layers import Dense\n",
    "from tensorflow.keras.optimizers import SGD\n",
    "import tensorflow.keras as keras\n",
    "from tqdm.notebook import tqdm\n",
    "from sklearn.metrics import accuracy_score,f1_score\n"
   ]
  },
  {
   "cell_type": "code",
   "execution_count": 2,
   "id": "513cffe0",
   "metadata": {},
   "outputs": [
    {
     "data": {
      "text/html": [
       "<div>\n",
       "<style scoped>\n",
       "    .dataframe tbody tr th:only-of-type {\n",
       "        vertical-align: middle;\n",
       "    }\n",
       "\n",
       "    .dataframe tbody tr th {\n",
       "        vertical-align: top;\n",
       "    }\n",
       "\n",
       "    .dataframe thead th {\n",
       "        text-align: right;\n",
       "    }\n",
       "</style>\n",
       "<table border=\"1\" class=\"dataframe\">\n",
       "  <thead>\n",
       "    <tr style=\"text-align: right;\">\n",
       "      <th></th>\n",
       "      <th>variance</th>\n",
       "      <th>skewness</th>\n",
       "      <th>curtosis</th>\n",
       "      <th>entropy</th>\n",
       "      <th>class</th>\n",
       "    </tr>\n",
       "  </thead>\n",
       "  <tbody>\n",
       "    <tr>\n",
       "      <th>0</th>\n",
       "      <td>3.62160</td>\n",
       "      <td>8.6661</td>\n",
       "      <td>-2.8073</td>\n",
       "      <td>-0.44699</td>\n",
       "      <td>0</td>\n",
       "    </tr>\n",
       "    <tr>\n",
       "      <th>1</th>\n",
       "      <td>4.54590</td>\n",
       "      <td>8.1674</td>\n",
       "      <td>-2.4586</td>\n",
       "      <td>-1.46210</td>\n",
       "      <td>0</td>\n",
       "    </tr>\n",
       "    <tr>\n",
       "      <th>2</th>\n",
       "      <td>3.86600</td>\n",
       "      <td>-2.6383</td>\n",
       "      <td>1.9242</td>\n",
       "      <td>0.10645</td>\n",
       "      <td>0</td>\n",
       "    </tr>\n",
       "    <tr>\n",
       "      <th>3</th>\n",
       "      <td>3.45660</td>\n",
       "      <td>9.5228</td>\n",
       "      <td>-4.0112</td>\n",
       "      <td>-3.59440</td>\n",
       "      <td>0</td>\n",
       "    </tr>\n",
       "    <tr>\n",
       "      <th>4</th>\n",
       "      <td>0.32924</td>\n",
       "      <td>-4.4552</td>\n",
       "      <td>4.5718</td>\n",
       "      <td>-0.98880</td>\n",
       "      <td>0</td>\n",
       "    </tr>\n",
       "  </tbody>\n",
       "</table>\n",
       "</div>"
      ],
      "text/plain": [
       "   variance  skewness  curtosis  entropy  class\n",
       "0   3.62160    8.6661   -2.8073 -0.44699      0\n",
       "1   4.54590    8.1674   -2.4586 -1.46210      0\n",
       "2   3.86600   -2.6383    1.9242  0.10645      0\n",
       "3   3.45660    9.5228   -4.0112 -3.59440      0\n",
       "4   0.32924   -4.4552    4.5718 -0.98880      0"
      ]
     },
     "execution_count": 2,
     "metadata": {},
     "output_type": "execute_result"
    }
   ],
   "source": [
    "#lets read our Bank_note dataset\n",
    "path = \"dataset/Bank-Note/BankNote_Authentication.csv\"\n",
    "df = pd.read_csv(path)\n",
    "df.head(5)"
   ]
  },
  {
   "cell_type": "code",
   "execution_count": 3,
   "id": "46d27b13",
   "metadata": {},
   "outputs": [
    {
     "data": {
      "text/html": [
       "<div>\n",
       "<style scoped>\n",
       "    .dataframe tbody tr th:only-of-type {\n",
       "        vertical-align: middle;\n",
       "    }\n",
       "\n",
       "    .dataframe tbody tr th {\n",
       "        vertical-align: top;\n",
       "    }\n",
       "\n",
       "    .dataframe thead th {\n",
       "        text-align: right;\n",
       "    }\n",
       "</style>\n",
       "<table border=\"1\" class=\"dataframe\">\n",
       "  <thead>\n",
       "    <tr style=\"text-align: right;\">\n",
       "      <th></th>\n",
       "      <th>variance</th>\n",
       "      <th>skewness</th>\n",
       "      <th>curtosis</th>\n",
       "      <th>entropy</th>\n",
       "      <th>class</th>\n",
       "    </tr>\n",
       "  </thead>\n",
       "  <tbody>\n",
       "    <tr>\n",
       "      <th>count</th>\n",
       "      <td>1372.000000</td>\n",
       "      <td>1372.000000</td>\n",
       "      <td>1372.000000</td>\n",
       "      <td>1372.000000</td>\n",
       "      <td>1372.000000</td>\n",
       "    </tr>\n",
       "    <tr>\n",
       "      <th>mean</th>\n",
       "      <td>0.433735</td>\n",
       "      <td>1.922353</td>\n",
       "      <td>1.397627</td>\n",
       "      <td>-1.191657</td>\n",
       "      <td>0.444606</td>\n",
       "    </tr>\n",
       "    <tr>\n",
       "      <th>std</th>\n",
       "      <td>2.842763</td>\n",
       "      <td>5.869047</td>\n",
       "      <td>4.310030</td>\n",
       "      <td>2.101013</td>\n",
       "      <td>0.497103</td>\n",
       "    </tr>\n",
       "    <tr>\n",
       "      <th>min</th>\n",
       "      <td>-7.042100</td>\n",
       "      <td>-13.773100</td>\n",
       "      <td>-5.286100</td>\n",
       "      <td>-8.548200</td>\n",
       "      <td>0.000000</td>\n",
       "    </tr>\n",
       "    <tr>\n",
       "      <th>25%</th>\n",
       "      <td>-1.773000</td>\n",
       "      <td>-1.708200</td>\n",
       "      <td>-1.574975</td>\n",
       "      <td>-2.413450</td>\n",
       "      <td>0.000000</td>\n",
       "    </tr>\n",
       "    <tr>\n",
       "      <th>50%</th>\n",
       "      <td>0.496180</td>\n",
       "      <td>2.319650</td>\n",
       "      <td>0.616630</td>\n",
       "      <td>-0.586650</td>\n",
       "      <td>0.000000</td>\n",
       "    </tr>\n",
       "    <tr>\n",
       "      <th>75%</th>\n",
       "      <td>2.821475</td>\n",
       "      <td>6.814625</td>\n",
       "      <td>3.179250</td>\n",
       "      <td>0.394810</td>\n",
       "      <td>1.000000</td>\n",
       "    </tr>\n",
       "    <tr>\n",
       "      <th>max</th>\n",
       "      <td>6.824800</td>\n",
       "      <td>12.951600</td>\n",
       "      <td>17.927400</td>\n",
       "      <td>2.449500</td>\n",
       "      <td>1.000000</td>\n",
       "    </tr>\n",
       "  </tbody>\n",
       "</table>\n",
       "</div>"
      ],
      "text/plain": [
       "          variance     skewness     curtosis      entropy        class\n",
       "count  1372.000000  1372.000000  1372.000000  1372.000000  1372.000000\n",
       "mean      0.433735     1.922353     1.397627    -1.191657     0.444606\n",
       "std       2.842763     5.869047     4.310030     2.101013     0.497103\n",
       "min      -7.042100   -13.773100    -5.286100    -8.548200     0.000000\n",
       "25%      -1.773000    -1.708200    -1.574975    -2.413450     0.000000\n",
       "50%       0.496180     2.319650     0.616630    -0.586650     0.000000\n",
       "75%       2.821475     6.814625     3.179250     0.394810     1.000000\n",
       "max       6.824800    12.951600    17.927400     2.449500     1.000000"
      ]
     },
     "execution_count": 3,
     "metadata": {},
     "output_type": "execute_result"
    }
   ],
   "source": [
    "df.describe()"
   ]
  },
  {
   "cell_type": "code",
   "execution_count": 4,
   "id": "c8dd7abf",
   "metadata": {},
   "outputs": [
    {
     "data": {
      "text/plain": [
       "variance    0\n",
       "skewness    0\n",
       "curtosis    0\n",
       "entropy     0\n",
       "class       0\n",
       "dtype: int64"
      ]
     },
     "execution_count": 4,
     "metadata": {},
     "output_type": "execute_result"
    }
   ],
   "source": [
    "#check for NA values\n",
    "df.isna().sum()"
   ]
  },
  {
   "cell_type": "code",
   "execution_count": 11,
   "id": "2c89731d",
   "metadata": {},
   "outputs": [
    {
     "data": {
      "text/html": [
       "<div>\n",
       "<style scoped>\n",
       "    .dataframe tbody tr th:only-of-type {\n",
       "        vertical-align: middle;\n",
       "    }\n",
       "\n",
       "    .dataframe tbody tr th {\n",
       "        vertical-align: top;\n",
       "    }\n",
       "\n",
       "    .dataframe thead th {\n",
       "        text-align: right;\n",
       "    }\n",
       "</style>\n",
       "<table border=\"1\" class=\"dataframe\">\n",
       "  <thead>\n",
       "    <tr style=\"text-align: right;\">\n",
       "      <th></th>\n",
       "      <th>variance</th>\n",
       "      <th>skewness</th>\n",
       "      <th>curtosis</th>\n",
       "      <th>entropy</th>\n",
       "    </tr>\n",
       "    <tr>\n",
       "      <th>class</th>\n",
       "      <th></th>\n",
       "      <th></th>\n",
       "      <th></th>\n",
       "      <th></th>\n",
       "    </tr>\n",
       "  </thead>\n",
       "  <tbody>\n",
       "    <tr>\n",
       "      <th>0</th>\n",
       "      <td>762</td>\n",
       "      <td>762</td>\n",
       "      <td>762</td>\n",
       "      <td>762</td>\n",
       "    </tr>\n",
       "    <tr>\n",
       "      <th>1</th>\n",
       "      <td>610</td>\n",
       "      <td>610</td>\n",
       "      <td>610</td>\n",
       "      <td>610</td>\n",
       "    </tr>\n",
       "  </tbody>\n",
       "</table>\n",
       "</div>"
      ],
      "text/plain": [
       "       variance  skewness  curtosis  entropy\n",
       "class                                       \n",
       "0           762       762       762      762\n",
       "1           610       610       610      610"
      ]
     },
     "execution_count": 11,
     "metadata": {},
     "output_type": "execute_result"
    }
   ],
   "source": [
    "#check if dataset is skewed!\n",
    "df.groupby(by=\"class\").count()"
   ]
  },
  {
   "cell_type": "code",
   "execution_count": 12,
   "id": "dc947b42",
   "metadata": {},
   "outputs": [],
   "source": [
    "#preapring X,y for training\n",
    "data = df.to_numpy()\n",
    "train = data[:1200]\n",
    "test = data[1200:]\n",
    "dataset = tf.data.Dataset.from_tensor_slices(train)\n",
    "dataset = dataset.shuffle(1200).batch(16 , drop_remainder=True)"
   ]
  },
  {
   "cell_type": "code",
   "execution_count": 13,
   "id": "28552ec4",
   "metadata": {},
   "outputs": [],
   "source": [
    "def SLAF_model(neurons=32,input_shape = (4,)):\n",
    "    \"\"\"\n",
    "    Sequential Model having first hidden layer with 1 neuron and linear activation,\n",
    "    second hidden layer has 1 neuron is used to approx activation function parameter,\n",
    "    output layer has sigmoid activation for a binary class task.\n",
    "    \n",
    "    model takes input by default of shape (4,)\n",
    "    and outputs result between 0 and 1.\n",
    "    \"\"\"\n",
    "    model = tf.keras.Sequential(name = \"SLAF_Net\")\n",
    "    model.add(Dense(neurons, activation = \"linear\",input_shape = input_shape, name = \"FC_layer_1\"))\n",
    "    model.add(Dense(neurons,activation = \"linear\" , name = \"Activation_layer\"))\n",
    "    model.add(Dense(1, activation = \"sigmoid\", name = \"Output_layer\"))\n",
    "    \n",
    "    return model"
   ]
  },
  {
   "cell_type": "code",
   "execution_count": 20,
   "id": "59017d38",
   "metadata": {},
   "outputs": [],
   "source": [
    "#calling slaf_model and binarycrossentropy loss.\n",
    "slaf = SLAF_model(neurons = 1, input_shape = (4,))\n",
    "bce= tf.keras.losses.BinaryCrossentropy()"
   ]
  },
  {
   "cell_type": "code",
   "execution_count": 21,
   "id": "2909e5d0",
   "metadata": {},
   "outputs": [
    {
     "name": "stdout",
     "output_type": "stream",
     "text": [
      "Model: \"SLAF_Net\"\n",
      "_________________________________________________________________\n",
      "Layer (type)                 Output Shape              Param #   \n",
      "=================================================================\n",
      "FC_layer_1 (Dense)           (None, 1)                 5         \n",
      "_________________________________________________________________\n",
      "Activation_layer (Dense)     (None, 1)                 2         \n",
      "_________________________________________________________________\n",
      "Output_layer (Dense)         (None, 1)                 2         \n",
      "=================================================================\n",
      "Total params: 9\n",
      "Trainable params: 9\n",
      "Non-trainable params: 0\n",
      "_________________________________________________________________\n"
     ]
    }
   ],
   "source": [
    "slaf.summary()"
   ]
  },
  {
   "cell_type": "code",
   "execution_count": 22,
   "id": "56f5751a",
   "metadata": {},
   "outputs": [],
   "source": [
    "class main:\n",
    "    \"\"\"\n",
    "    Takes number of Epochs,learning_rate and threshold for final decision.\n",
    "    stores metrics and activation layer parameters in the memory\n",
    "    executes training function for the SLAF model on our dataset\n",
    "    \n",
    "    \"\"\"\n",
    "    def __init__(self,Epochs,alpha,threshold,model=slaf):\n",
    "        self.Epochs = Epochs\n",
    "        self.alpha = alpha\n",
    "        self.threshold = threshold\n",
    "        self.optimizer = SGD(learning_rate = self.alpha) \n",
    "        self.losses = []\n",
    "        self.test_loss = []\n",
    "        self.accuracy = []\n",
    "        self.test_acc = []\n",
    "        self.f1 = []\n",
    "        self.activation_K1 = []\n",
    "        self.activation_K0 = []\n",
    "        \n",
    "        \n",
    "    \n",
    "    def training(self,dataset,test_dataset):\n",
    "        \n",
    "        for epoch in tqdm(range(1,self.Epochs+1)):\n",
    "            Loss = 0\n",
    "            accuracy = []\n",
    "            F1_score = []\n",
    "            for data in dataset:\n",
    "                with tf.GradientTape() as tape:\n",
    "                    X = tf.cast(data[:,:4],dtype = tf.float32)\n",
    "                    y = tf.cast(data[:,4],dtype = tf.float32)\n",
    "                    y_ = slaf(X)\n",
    "                    loss = bce(y_true = y,y_pred = y_)\n",
    "            \n",
    "                y_copy = np.copy(y_)\n",
    "                \n",
    "                for i,element in enumerate(y_copy):\n",
    "                    if element >= self.threshold:\n",
    "                        y_copy[i] = 1.0\n",
    "                    else:\n",
    "                        y_copy[i] = 0.0\n",
    "                acc = accuracy_score(y,y_copy)\n",
    "                f1 = f1_score(y,y_copy,zero_division=1)\n",
    "                \n",
    "                Loss +=loss\n",
    "                accuracy.append(acc)\n",
    "                F1_score.append(f1)\n",
    "                \n",
    "                #gradients calculation\n",
    "                gradients = tape.gradient(loss,slaf.trainable_variables)\n",
    "                #applying gradient decent algorithm\n",
    "                self.optimizer.apply_gradients(zip(gradients,slaf.trainable_variables))\n",
    "                \n",
    "                \n",
    "            self.activation_K1.append(slaf.layers[1].get_weights()[0].flatten())\n",
    "            self.activation_K0.append(slaf.layers[1].get_weights()[1].flatten())\n",
    "            self.losses.append(Loss)\n",
    "            self.accuracy.append(np.mean(accuracy))\n",
    "            self.f1.append(np.mean(F1_score))\n",
    "            \n",
    "            #testing\n",
    "            X_test = tf.cast(test_dataset[:,:4],dtype = tf.float32)\n",
    "            y_test = tf.cast(test_dataset[:,4],dtype = tf.float32)\n",
    "            loss_t,acc_t, =self.testing(X_test,y_test)\n",
    "            self.test_loss.append(loss_t)\n",
    "            self.test_acc.append(acc_t)\n",
    "                \n",
    "            \n",
    "            if epoch % 20 == 0:\n",
    "                print(f\"\"\"epoch:{epoch}, loss: {Loss}, average_acc: {np.mean(accuracy)}, F1_score:{np.mean(F1_score)},\n",
    "                      validation_acc:{acc_t}\"\"\")\n",
    "                \n",
    "    def testing(self,X_test,y_test):\n",
    "        \"\"\"\n",
    "        this func takes X_test,y_test\n",
    "        returns bce loss, accuracy and f1 score\n",
    "        \"\"\"\n",
    "        y_pred = slaf(X_test)\n",
    "        loss = bce(y_true = y_test,y_pred = y_pred)\n",
    "        y_copy = np.copy(y_pred)\n",
    "                \n",
    "        for i,element in enumerate(y_copy):\n",
    "            if element >= self.threshold:\n",
    "                y_copy[i] = 1.0\n",
    "            else:\n",
    "                y_copy[i] = 0.0\n",
    "        acc = accuracy_score(y_test,y_copy)\n",
    "        \n",
    "        \n",
    "        return loss,acc\n",
    "\n",
    "        \n",
    "        \n",
    "        \n",
    "        \n",
    "        \n",
    "        \n",
    "        \n",
    "        \n",
    "            \n",
    "        "
   ]
  },
  {
   "cell_type": "code",
   "execution_count": 23,
   "id": "44bede2c",
   "metadata": {},
   "outputs": [
    {
     "data": {
      "application/vnd.jupyter.widget-view+json": {
       "model_id": "db79ae3dc21d46b6a120c4c25c5d91e2",
       "version_major": 2,
       "version_minor": 0
      },
      "text/plain": [
       "  0%|          | 0/200 [00:00<?, ?it/s]"
      ]
     },
     "metadata": {},
     "output_type": "display_data"
    },
    {
     "name": "stdout",
     "output_type": "stream",
     "text": [
      "epoch:20, loss: 33.27455520629883, average_acc: 0.79, F1_score:0.5807540607540608,\n",
      "                      validation_acc:0.45930232558139533\n",
      "epoch:40, loss: 21.83816146850586, average_acc: 0.8558333333333333, F1_score:0.7423143893143892,\n",
      "                      validation_acc:0.6569767441860465\n",
      "epoch:60, loss: 13.566947937011719, average_acc: 0.9158333333333334, F1_score:0.8494745507903403,\n",
      "                      validation_acc:0.8081395348837209\n",
      "epoch:80, loss: 9.39981746673584, average_acc: 0.9433333333333334, F1_score:0.9085779180113546,\n",
      "                      validation_acc:0.872093023255814\n",
      "epoch:100, loss: 6.9712114334106445, average_acc: 0.955, F1_score:0.9266011834742485,\n",
      "                      validation_acc:0.9011627906976745\n",
      "epoch:120, loss: 5.465799808502197, average_acc: 0.9741666666666666, F1_score:0.9602259148946458,\n",
      "                      validation_acc:0.936046511627907\n",
      "epoch:140, loss: 4.490016460418701, average_acc: 0.9808333333333333, F1_score:0.9716796745478935,\n",
      "                      validation_acc:0.9418604651162791\n",
      "epoch:160, loss: 3.831178665161133, average_acc: 0.9866666666666667, F1_score:0.9796238097414569,\n",
      "                      validation_acc:0.9651162790697675\n",
      "epoch:180, loss: 3.3724052906036377, average_acc: 0.9883333333333333, F1_score:0.9821183767499557,\n",
      "                      validation_acc:0.9825581395348837\n",
      "epoch:200, loss: 3.0420610904693604, average_acc: 0.9891666666666666, F1_score:0.9837330947919185,\n",
      "                      validation_acc:0.9825581395348837\n"
     ]
    }
   ],
   "source": [
    "main_loop = main(Epochs=200,alpha=0.001, threshold=0.6)\n",
    "main_loop.training(dataset,test_dataset=test)"
   ]
  },
  {
   "cell_type": "code",
   "execution_count": 24,
   "id": "60b8a10c",
   "metadata": {},
   "outputs": [
    {
     "name": "stdout",
     "output_type": "stream",
     "text": [
      "k0: [0.44404453] , k1:[-1.3430157]\n"
     ]
    }
   ],
   "source": [
    "#final values for activation function g = k0 + k1.x \n",
    "print(f\"k0: {main_loop.activation_K0[-1]} , k1:{main_loop.activation_K1[-1]}\")"
   ]
  },
  {
   "cell_type": "code",
   "execution_count": 25,
   "id": "c051cb5b",
   "metadata": {},
   "outputs": [
    {
     "data": {
      "image/png": "[encoded data removed]",
      "text/plain": [
       "<Figure size 432x288 with 1 Axes>"
      ]
     },
     "metadata": {
      "needs_background": "light"
     },
     "output_type": "display_data"
    }
   ],
   "source": [
    "#train vs test accuracy \n",
    "epochs = [i for i in range(200)]\n",
    "plt.plot(epochs,main_loop.accuracy,label = \"Train\")\n",
    "plt.plot(epochs,main_loop.test_acc,label = \"Test\")\n",
    "plt.xlabel(\"Epochs\")\n",
    "plt.ylabel(\"Accuracy\")\n",
    "plt.title(\"Train and Test accuracy\")\n",
    "plt.legend()\n",
    "plt.show()"
   ]
  },
  {
   "cell_type": "code",
   "execution_count": 29,
   "id": "1951eb9d",
   "metadata": {},
   "outputs": [
    {
     "data": {
      "image/png": "[encoded data removed]",
      "text/plain": [
       "<Figure size 432x288 with 1 Axes>"
      ]
     },
     "metadata": {
      "needs_background": "light"
     },
     "output_type": "display_data"
    }
   ],
   "source": [
    "plt.plot(epochs,main_loop.losses,label = \"Train\")\n",
    "plt.plot(epochs,main_loop.test_loss,label = \"Test\")\n",
    "plt.xlabel(\"Epochs\")\n",
    "plt.ylabel(\"Loss\")\n",
    "plt.title(\"Train and Test Loss\")\n",
    "plt.legend()\n",
    "plt.show()"
   ]
  },
  {
   "cell_type": "code",
   "execution_count": 27,
   "id": "8d8e1801",
   "metadata": {},
   "outputs": [
    {
     "data": {
      "image/png": "[encoded data removed]",
      "text/plain": [
       "<Figure size 432x288 with 1 Axes>"
      ]
     },
     "metadata": {
      "needs_background": "light"
     },
     "output_type": "display_data"
    }
   ],
   "source": [
    "plt.plot(epochs,main_loop.activation_K1)\n",
    "plt.xlabel(\"Epochs\")\n",
    "plt.ylabel(\"K1 coefficients\")\n",
    "plt.show()"
   ]
  },
  {
   "cell_type": "code",
   "execution_count": 28,
   "id": "1c5ac615",
   "metadata": {},
   "outputs": [
    {
     "data": {
      "image/png": "[encoded data removed]",
      "text/plain": [
       "<Figure size 432x288 with 1 Axes>"
      ]
     },
     "metadata": {
      "needs_background": "light"
     },
     "output_type": "display_data"
    }
   ],
   "source": [
    "plt.plot(epochs,main_loop.activation_K0)\n",
    "plt.xlabel(\"Epochs\")\n",
    "plt.ylabel(\"K0 coefficients\")\n",
    "plt.show()"
   ]
  }
 ],
 "metadata": {
  "kernelspec": {
   "display_name": "Python 3",
   "language": "python",
   "name": "python3"
  },
  "language_info": {
   "codemirror_mode": {
    "name": "ipython",
    "version": 3
   },
   "file_extension": ".py",
   "mimetype": "text/x-python",
   "name": "python",
   "nbconvert_exporter": "python",
   "pygments_lexer": "ipython3",
   "version": "3.8.5"
  }
 },
 "nbformat": 4,
 "nbformat_minor": 5
}
